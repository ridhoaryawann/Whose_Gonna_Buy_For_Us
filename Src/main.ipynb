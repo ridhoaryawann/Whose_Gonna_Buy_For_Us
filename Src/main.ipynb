{
 "cells": [
  {
   "cell_type": "code",
   "execution_count": 17,
   "metadata": {},
   "outputs": [
    {
     "name": "stdout",
     "output_type": "stream",
     "text": [
      "\n",
      "Welcome to 'Whose Gonna Buy For Us'!\n",
      "\n",
      "The game will start with 2 players.\n",
      "\n",
      "Remaining Players: adas, asd\n",
      "BANG!\n",
      "adas is out of the game!\n",
      "\n",
      "The game is over!\n",
      "\n",
      "The following items that need to be bought:\n",
      "- xzc\n",
      "- xzv\n",
      "\n",
      "The last player remaining, asd , has lost and will buy things for all the players.\n"
     ]
    }
   ],
   "source": [
    "def buy_for_us():\n",
    "    while True:\n",
    "        try:\n",
    "            num_players = int(input(\"Enter the number of players: \"))\n",
    "            if num_players <= 1:\n",
    "                raise ValueError(\"Number of players must be greater than 1\")\n",
    "            break\n",
    "        except ValueError:\n",
    "            print(\"Please enter a valid number of players (greater than 1).\")\n",
    "\n",
    "    players = set()\n",
    "    things_to_buy = []  # Using a list to store items to buy\n",
    "\n",
    "    for i in range(1, num_players + 1):\n",
    "        while True:\n",
    "            try:\n",
    "                player_name = input(f\"Enter name for Player {i}: \")\n",
    "                if not player_name.strip():\n",
    "                    raise ValueError(\"Player name cannot be blank.\")\n",
    "                break\n",
    "            except ValueError as e:\n",
    "                print(\"Error:\", e)\n",
    "\n",
    "        players.add(player_name)\n",
    "\n",
    "        while True:\n",
    "            try:\n",
    "                thing = input(f\"Enter something that {player_name} needs: \")\n",
    "                if not thing.strip():\n",
    "                    raise ValueError(\"Item cannot be blank.\")\n",
    "                break\n",
    "            except ValueError as e:\n",
    "                print(\"Error:\", e)\n",
    "                \n",
    "        things_to_buy.append(thing)  \n",
    "\n",
    "    alive_players = players.copy()\n",
    "\n",
    "    print(\"\\nWelcome to 'Whose Gonna Buy For Us'!\\n\")\n",
    "    print(\"The game will start with\", len(players), \"players.\")\n",
    "\n",
    "    while len(alive_players) > 1:\n",
    "        print(\"\\nRemaining Players:\", ', '.join(alive_players))\n",
    "        input(\"Press Enter to spin the chamber and pull the trigger...\")\n",
    "        print(\"DAR DER DOR!\")\n",
    "\n",
    "        input(\"\\nPress Enter to see who's out of the game...\")\n",
    "        dead_player = alive_players.pop()\n",
    "        print(dead_player, \"congrats! you are out of the game!\")\n",
    "\n",
    "    print(\"\\nThe game is over!\")\n",
    "    print(\"\\nThe following items that need to be bought:\")\n",
    "    for item in things_to_buy:\n",
    "        print(\"-\", item)\n",
    "\n",
    "    print(\"\\nThe last player remaining,\", alive_players.pop(), \", has lost and will buy things for all the players.\")\n",
    "\n",
    "buy_for_us()\n"
   ]
  }
 ],
 "metadata": {
  "kernelspec": {
   "display_name": "Python 3",
   "language": "python",
   "name": "python3"
  },
  "language_info": {
   "codemirror_mode": {
    "name": "ipython",
    "version": 3
   },
   "file_extension": ".py",
   "mimetype": "text/x-python",
   "name": "python",
   "nbconvert_exporter": "python",
   "pygments_lexer": "ipython3",
   "version": "3.12.1"
  }
 },
 "nbformat": 4,
 "nbformat_minor": 2
}
